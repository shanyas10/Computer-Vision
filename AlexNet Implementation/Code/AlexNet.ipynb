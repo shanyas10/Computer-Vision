{
 "cells": [
  {
   "cell_type": "code",
   "execution_count": null,
   "metadata": {},
   "outputs": [],
   "source": [
    "import keras\n",
    "from keras.models import Sequential\n",
    "from keras.layers import MaxPooling2D, Dense, Dropout, Flatten, Conv2D, BatchNormalization, Activation\n",
    "import os"
   ]
  },
  {
   "cell_type": "code",
   "execution_count": null,
   "metadata": {},
   "outputs": [],
   "source": [
    "batch_size = 32\n",
    "num_classes = 10\n",
    "epochs = 100\n",
    "num_predictions = 20\n",
    "save_dir = os.path.join(os.getcwd(), 'saved_models')\n",
    "model_name = 'keras_cifar10_trained_model.h5'"
   ]
  },
  {
   "cell_type": "code",
   "execution_count": null,
   "metadata": {},
   "outputs": [],
   "source": [
    "# Loading Dataset (CIFAR10: Subset of CIFAR)\n",
    "from keras.datasets import cifar10"
   ]
  },
  {
   "cell_type": "code",
   "execution_count": null,
   "metadata": {},
   "outputs": [],
   "source": [
    "(x_train, y_train), (x_test, y_test) = cifar10.load_data()\n",
    "print('x_train shape:', x_train.shape)\n",
    "print(x_train.shape[0], 'train samples')\n",
    "print(x_test.shape[0], 'test samples')"
   ]
  },
  {
   "cell_type": "code",
   "execution_count": null,
   "metadata": {},
   "outputs": [],
   "source": [
    "#Note that I'll be using Batch Normalization instead of LRN\n",
    "def create_alexnet():\n",
    "    inputShape = (227,227,3)   # Note that input shape is mentioned as 224x224x3 in AlexNet Paper. \n",
    "                               #It actually is 227X227X3 as mentioned by Andrej Karpathy in CS231N\n",
    "    \n",
    "    alexnet = Sequential()\n",
    "    \n",
    "    # Layer 1.\n",
    "        # [Input] ==> 227x227x3\n",
    "        # --> 227x227x3 ==> [Convolution: size=(11x11x3)x96, strides=4, padding=valid] ==> 55x55x96\n",
    "        # --> 55x55x96 ==> [ReLU] ==> 55x55x96\n",
    "        # --> 55x55x96 ==> [Batch Normalization] ==> 55x55x96\n",
    "        # --> 55x55x96 ==> [Max-Pool: size=3x3, strides=2, padding=valid] ==> 27x27x96\n",
    "        # --> [Output] ==> 27x27x96\n",
    "    alexnet.add(Conv2D(filters = 96, kernel_size = (11,11), strides = (4,4), input_shape = (227,227,3), padding = 'valid'))\n",
    "    alexnet.add(Activation('relu'))\n",
    "    alexnet.add(BatchNormalization(axis = 1))\n",
    "    alexnet.add(MaxPooling2D(pool_size = (3,3), strides = 2, padding = 'valid'))\n",
    "    \n",
    "    # Layer 2.\n",
    "        # [Input] ==> 27x27x96\n",
    "        # --> 27x27x96 ==> [Convolution: size=(5x5x96)x256, strides=1, padding=same] ==> 27x27x256\n",
    "        # --> 27x27x256 ==> [ReLU] ==> 27x27x256\n",
    "        # --> 27x27x256 ==> [Batch Normalization] ==> 27x27x256\n",
    "        # --> 27x27x256 ==> [Max-Pool: size=3x3, strides=2, padding=valid] ==> 13x13x256\n",
    "        # --> [Output] ==> 13x13x256\n",
    "    alexnet.add(Conv2D(filters = 256, kernel_size = (5,5), strides = (1,1), padding= 'same'))\n",
    "    alexnet.add(Activation('relu'))\n",
    "    alexnet.add(BatchNormalization(axis = 1))\n",
    "    alexnet.add(MaxPooling2D(pool_size = (3,3), strides = 2, padding = 'valid'))\n",
    "    \n",
    "    # Layer 3.\n",
    "        # [Input] ==> 13x13x256\n",
    "        # --> 13x13x256 ==> [Convolution: size=(3x3x256)x384, strides=1, padding=same] ==> 13x13x384\n",
    "        # --> 13x13x384 ==> [ReLU] ==> 13x13x384\n",
    "        # --> [Output] ==> 13x13x384\n",
    "    alexnet.add(Conv2D(filters = 384, kernel_size = (3,3), strides = (1,1), padding='same'))\n",
    "    alexnet.add(Activation('relu'))\n",
    "    \n",
    "    # Layer 4.\n",
    "        # [Input] ==> 13x13x384\n",
    "        # --> 13x13x384 ==> [Convolution: size=(3x3x384)x384, strides=1, padding=same] ==> 13x13x384\n",
    "        # --> 13x13x384 ==> [ReLU] ==> 13x13x384\n",
    "        # --> [Output] ==> 13x13x384\n",
    "    alexnet.add(Conv2D(filters = 384, kernel_size = (3,3), strides = (1,1), padding='same'))\n",
    "    alexnet.add(Activation('relu'))\n",
    "    \n",
    "    # Layer 5.\n",
    "        # [Input] ==> 13x13x384\n",
    "        # --> 13x13x384 ==> [Convolution: size=(3x3x384)x256, strides=1, padding=same] ==> 13x13x256\n",
    "        # --> 13x13x256 ==> [ReLU] ==> 13x13x256\n",
    "        # --> 13x13x256 ==> [Max-Pool: size=3x3, strides=2, padding=valid] ==> 6x6x256\n",
    "        # --> [Output] ==> 6x6x256\n",
    "    alexnet.add(Conv2D(filters = 256, kernel_size = (3,3), strides = (1,1), padding = 'same'))\n",
    "    alexnet.add(Activation('relu'))\n",
    "    alexnet.add(MaxPooling2D(pool_size = (3,3), strides = 2, padding = 'valid'))\n",
    "    \n",
    "    # Layer 6.\n",
    "        # [Input] ==> 6x6x256=9216\n",
    "        # --> 9216 ==> [Fully Connected: neurons=4096] ==> 4096\n",
    "        # --> 4096 ==> [ReLU] ==> 4096\n",
    "        # --> 4096 ==> [Dropout] ==> 4096\n",
    "        # --> [Output] ==> 4096\n",
    "    alexnet.add(Flatten())\n",
    "    alexnet.add(Dense(4096))\n",
    "    alexnet.add(Activation(\"relu\"))\n",
    "    alexnet.add(Dropout(0.4))\n",
    "    \n",
    "    # Layer 7.\n",
    "        # [Input] ==> 4096\n",
    "        # --> 4096 ==> [Fully Connected: neurons=4096] ==> 4096\n",
    "        # --> 4096 ==> [ReLU] ==> 4096\n",
    "        # --> 4096 ==> [Dropout] ==> 4096\n",
    "        # --> [Output] ==> 4096\n",
    "    \n",
    "    alexnet.add(Dense(4096))\n",
    "    alexnet.add(Activation(\"relu\"))\n",
    "    alexnet.add(Dropout(0.4))\n",
    "    \n",
    "    # Layer 8.\n",
    "        # [Input] ==> 4096\n",
    "        # --> 4096 ==> [Logits: neurons=1000] ==> 1000\n",
    "        # --> [Output] ==> 1000\n",
    "    alexnet.add(Dense(1000))\n",
    "    alexnet.add(Activation(\"softmax\"))\n",
    "    \n",
    "    alexnet.summary()\n",
    "    return alexnet\n",
    "    "
   ]
  },
  {
   "cell_type": "code",
   "execution_count": null,
   "metadata": {},
   "outputs": [],
   "source": [
    "#Preprocessing data\n",
    "x_train = x_train.astype('float32')\n",
    "x_test = x_test.astype('float32')\n",
    "x_train /= 255\n",
    "x_test /= 255"
   ]
  },
  {
   "cell_type": "code",
   "execution_count": null,
   "metadata": {},
   "outputs": [],
   "source": [
    "# Convert class vectors to binary class matrices.\n",
    "y_train = keras.utils.to_categorical(y_train, num_classes)\n",
    "y_test = keras.utils.to_categorical(y_test, num_classes)"
   ]
  },
  {
   "cell_type": "code",
   "execution_count": null,
   "metadata": {},
   "outputs": [],
   "source": [
    "model = create_alexnet()"
   ]
  },
  {
   "cell_type": "code",
   "execution_count": null,
   "metadata": {},
   "outputs": [],
   "source": [
    "sgd = SGD(lr=0.01, decay=1e-6, momentum=0.9, nesterov=True)\n",
    "alexnet.compile(loss='mse',\n",
    "              optimizer=sgd,\n",
    "              metrics=['accuracy'])"
   ]
  },
  {
   "cell_type": "code",
   "execution_count": null,
   "metadata": {},
   "outputs": [],
   "source": [
    "#Data Augmentation\n",
    "from keras.preprocessing.image import ImageDataGenerator"
   ]
  },
  {
   "cell_type": "code",
   "execution_count": null,
   "metadata": {},
   "outputs": [],
   "source": [
    "# This will do preprocessing and realtime data augmentation:\n",
    "datagen = ImageDataGenerator(\n",
    "    width_shift_range=0.1,\n",
    "    # randomly shift images vertically (fraction of total height)\n",
    "    height_shift_range=0.1,\n",
    "    fill_mode='nearest',\n",
    "    horizontal_flip=True,  # randomly flip images ;Mentioned in the paper)\n",
    "\n",
    "# Compute quantities required for feature-wise normalization\n",
    "# (std, mean, and principal components if ZCA whitening is applied).\n",
    "datagen.fit(x_train)\n",
    "\n",
    "# Fit the model on the batches generated by datagen.flow().\n",
    "model.fit_generator(datagen.flow(x_train, y_train,\n",
    "                                 batch_size=batch_size),\n",
    "                    epochs=epochs,\n",
    "                    validation_data=(x_test, y_test),\n",
    "                    workers=4)"
   ]
  },
  {
   "cell_type": "code",
   "execution_count": null,
   "metadata": {},
   "outputs": [],
   "source": [
    "if not os.path.isdir(save_dir):\n",
    "    os.makedirs(save_dir)\n",
    "model_path = os.path.join(save_dir, model_name)\n",
    "model.save(model_path)\n",
    "print('Saved trained model at %s ' % model_path)\n",
    "\n",
    "# Score trained model.\n",
    "scores = model.evaluate(x_test, y_test, verbose=1)\n",
    "print('Test loss:', scores[0])\n",
    "print('Test accuracy:', scores[1])"
   ]
  }
 ],
 "metadata": {
  "kernelspec": {
   "display_name": "Python 3",
   "language": "python",
   "name": "python3"
  },
  "language_info": {
   "codemirror_mode": {
    "name": "ipython",
    "version": 3
   },
   "file_extension": ".py",
   "mimetype": "text/x-python",
   "name": "python",
   "nbconvert_exporter": "python",
   "pygments_lexer": "ipython3",
   "version": "3.6.5"
  }
 },
 "nbformat": 4,
 "nbformat_minor": 2
}
