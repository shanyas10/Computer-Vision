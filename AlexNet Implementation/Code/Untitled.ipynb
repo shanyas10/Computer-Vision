{
 "cells": [
  {
   "cell_type": "code",
   "execution_count": 3,
   "metadata": {},
   "outputs": [],
   "source": [
    "import keras\n",
    "from keras.models import Sequential\n",
    "from keras.layers import MaxPooling2D, Dense, Dropout, Flatten, Conv2D, L"
   ]
  },
  {
   "cell_type": "code",
   "execution_count": 8,
   "metadata": {},
   "outputs": [],
   "source": [
    "def create_alexnet():\n",
    "    input_shape = (227,227,3)   # Note that input shape is mentioned as 224x224x3 in AlexNet Paper. It actually is 227X227X3 as mentioned by Andrej Karpathy in CS231N\n",
    "    \n",
    "    alexnet = Sequential()\n",
    "    \n",
    "    #1st Conv Layer\n",
    "    alexnet.add(Conv2D(filters = 96, kernel_size = (11,11), strides = (4,4), input_shape = input_shape))\n",
    "    alexnet.add(Activation('relu'))\n",
    "    alexnet.add(MaxPooling2D(pool_size = (3,3), strides = 2))\n",
    "    \n",
    "    #2nd Conv Layer\n",
    "    alexnet.add(Conv2D(filters = 96, kernel_size = (5,5), strides = (4,4), input_shape = input_shape, padding=))\n",
    "    alexnet.add(Activation('relu'))\n",
    "    alexnet.add(MaxPooling2D(pool_size = (3,3), strides = 2))\n",
    "    alexnet.add\n",
    "    \n",
    "    #3rd Conv Layer\n",
    "    alexnet.add(Conv2D(filters = 96, kernel_size = (5,5), strides = (4,4), input_shape = input_shape, padding=))\n",
    "    alexnet.add(Activation('relu'))\n",
    "    alexnet.add(MaxPooling2D(pool_size = (3,3), strides = 2))\n",
    "    alexnet.add\n",
    "    "
   ]
  },
  {
   "cell_type": "code",
   "execution_count": null,
   "metadata": {},
   "outputs": [],
   "source": []
  }
 ],
 "metadata": {
  "kernelspec": {
   "display_name": "Python 3",
   "language": "python",
   "name": "python3"
  },
  "language_info": {
   "codemirror_mode": {
    "name": "ipython",
    "version": 3
   },
   "file_extension": ".py",
   "mimetype": "text/x-python",
   "name": "python",
   "nbconvert_exporter": "python",
   "pygments_lexer": "ipython3",
   "version": "3.6.5"
  }
 },
 "nbformat": 4,
 "nbformat_minor": 2
}
